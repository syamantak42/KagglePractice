{
 "cells": [
  {
   "cell_type": "code",
   "execution_count": 1,
   "id": "6ecb738d",
   "metadata": {},
   "outputs": [],
   "source": [
    "import pandas as pd\n",
    "import numpy as np\n",
    "import sys\n",
    "import os\n",
    "import copy\n",
    "import lightgbm as lgb\n",
    "from sklearn.metrics import classification_report \n",
    "from sklearn.metrics import roc_auc_score"
   ]
  },
  {
   "cell_type": "code",
   "execution_count": 12,
   "id": "15fd0391",
   "metadata": {},
   "outputs": [
    {
     "name": "stdout",
     "output_type": "stream",
     "text": [
      "C:\\Users\\Owner\\Desktop\\Projects\\Research\\Kaggle_Things\\Data\\\n"
     ]
    }
   ],
   "source": [
    "MainPath = os.path.normpath(os.getcwd() + os.sep + os.pardir)\n",
    "DataPath = str(MainPath) + \"\\\\Data\\\\\"\n",
    "print(DataPath)"
   ]
  },
  {
   "cell_type": "code",
   "execution_count": 13,
   "id": "174a3ba3",
   "metadata": {
    "scrolled": true
   },
   "outputs": [],
   "source": [
    "#datadir = \"C:/Users\\Owner\\Desktop\\Projects\\Research\\Kaggle_Things\\Data\"\n",
    "# os.chdir(\"..\")\n",
    "# print (os.path.abspath(os.curdir))"
   ]
  },
  {
   "cell_type": "code",
   "execution_count": 25,
   "id": "44b32424",
   "metadata": {},
   "outputs": [],
   "source": [
    "trainAlldf = pd.read_csv(DataPath + \"train.csv\")\n",
    "testdf = pd.read_csv(DataPath + \"test.csv\")"
   ]
  },
  {
   "cell_type": "code",
   "execution_count": 26,
   "id": "0dfbebf5",
   "metadata": {},
   "outputs": [
    {
     "data": {
      "text/html": [
       "<div>\n",
       "<style scoped>\n",
       "    .dataframe tbody tr th:only-of-type {\n",
       "        vertical-align: middle;\n",
       "    }\n",
       "\n",
       "    .dataframe tbody tr th {\n",
       "        vertical-align: top;\n",
       "    }\n",
       "\n",
       "    .dataframe thead th {\n",
       "        text-align: right;\n",
       "    }\n",
       "</style>\n",
       "<table border=\"1\" class=\"dataframe\">\n",
       "  <thead>\n",
       "    <tr style=\"text-align: right;\">\n",
       "      <th></th>\n",
       "      <th>id</th>\n",
       "      <th>gravity</th>\n",
       "      <th>ph</th>\n",
       "      <th>osmo</th>\n",
       "      <th>cond</th>\n",
       "      <th>urea</th>\n",
       "      <th>calc</th>\n",
       "      <th>target</th>\n",
       "    </tr>\n",
       "  </thead>\n",
       "  <tbody>\n",
       "    <tr>\n",
       "      <th>count</th>\n",
       "      <td>414.000000</td>\n",
       "      <td>414.000000</td>\n",
       "      <td>414.000000</td>\n",
       "      <td>414.000000</td>\n",
       "      <td>414.000000</td>\n",
       "      <td>414.000000</td>\n",
       "      <td>414.000000</td>\n",
       "      <td>414.000000</td>\n",
       "    </tr>\n",
       "    <tr>\n",
       "      <th>mean</th>\n",
       "      <td>206.500000</td>\n",
       "      <td>1.017894</td>\n",
       "      <td>5.955459</td>\n",
       "      <td>651.545894</td>\n",
       "      <td>21.437923</td>\n",
       "      <td>278.657005</td>\n",
       "      <td>4.114638</td>\n",
       "      <td>0.444444</td>\n",
       "    </tr>\n",
       "    <tr>\n",
       "      <th>std</th>\n",
       "      <td>119.655756</td>\n",
       "      <td>0.006675</td>\n",
       "      <td>0.642260</td>\n",
       "      <td>234.676567</td>\n",
       "      <td>7.514750</td>\n",
       "      <td>136.442249</td>\n",
       "      <td>3.217641</td>\n",
       "      <td>0.497505</td>\n",
       "    </tr>\n",
       "    <tr>\n",
       "      <th>min</th>\n",
       "      <td>0.000000</td>\n",
       "      <td>1.005000</td>\n",
       "      <td>4.760000</td>\n",
       "      <td>187.000000</td>\n",
       "      <td>5.100000</td>\n",
       "      <td>10.000000</td>\n",
       "      <td>0.170000</td>\n",
       "      <td>0.000000</td>\n",
       "    </tr>\n",
       "    <tr>\n",
       "      <th>25%</th>\n",
       "      <td>103.250000</td>\n",
       "      <td>1.012000</td>\n",
       "      <td>5.530000</td>\n",
       "      <td>455.250000</td>\n",
       "      <td>15.500000</td>\n",
       "      <td>170.000000</td>\n",
       "      <td>1.450000</td>\n",
       "      <td>0.000000</td>\n",
       "    </tr>\n",
       "    <tr>\n",
       "      <th>50%</th>\n",
       "      <td>206.500000</td>\n",
       "      <td>1.018000</td>\n",
       "      <td>5.740000</td>\n",
       "      <td>679.500000</td>\n",
       "      <td>22.200000</td>\n",
       "      <td>277.000000</td>\n",
       "      <td>3.130000</td>\n",
       "      <td>0.000000</td>\n",
       "    </tr>\n",
       "    <tr>\n",
       "      <th>75%</th>\n",
       "      <td>309.750000</td>\n",
       "      <td>1.022000</td>\n",
       "      <td>6.280000</td>\n",
       "      <td>840.000000</td>\n",
       "      <td>27.600000</td>\n",
       "      <td>385.000000</td>\n",
       "      <td>6.630000</td>\n",
       "      <td>1.000000</td>\n",
       "    </tr>\n",
       "    <tr>\n",
       "      <th>max</th>\n",
       "      <td>413.000000</td>\n",
       "      <td>1.040000</td>\n",
       "      <td>7.940000</td>\n",
       "      <td>1236.000000</td>\n",
       "      <td>38.000000</td>\n",
       "      <td>620.000000</td>\n",
       "      <td>14.340000</td>\n",
       "      <td>1.000000</td>\n",
       "    </tr>\n",
       "  </tbody>\n",
       "</table>\n",
       "</div>"
      ],
      "text/plain": [
       "               id     gravity          ph         osmo        cond  \\\n",
       "count  414.000000  414.000000  414.000000   414.000000  414.000000   \n",
       "mean   206.500000    1.017894    5.955459   651.545894   21.437923   \n",
       "std    119.655756    0.006675    0.642260   234.676567    7.514750   \n",
       "min      0.000000    1.005000    4.760000   187.000000    5.100000   \n",
       "25%    103.250000    1.012000    5.530000   455.250000   15.500000   \n",
       "50%    206.500000    1.018000    5.740000   679.500000   22.200000   \n",
       "75%    309.750000    1.022000    6.280000   840.000000   27.600000   \n",
       "max    413.000000    1.040000    7.940000  1236.000000   38.000000   \n",
       "\n",
       "             urea        calc      target  \n",
       "count  414.000000  414.000000  414.000000  \n",
       "mean   278.657005    4.114638    0.444444  \n",
       "std    136.442249    3.217641    0.497505  \n",
       "min     10.000000    0.170000    0.000000  \n",
       "25%    170.000000    1.450000    0.000000  \n",
       "50%    277.000000    3.130000    0.000000  \n",
       "75%    385.000000    6.630000    1.000000  \n",
       "max    620.000000   14.340000    1.000000  "
      ]
     },
     "execution_count": 26,
     "metadata": {},
     "output_type": "execute_result"
    }
   ],
   "source": [
    "trainAlldf.describe()"
   ]
  },
  {
   "cell_type": "code",
   "execution_count": 70,
   "id": "860ff484",
   "metadata": {},
   "outputs": [
    {
     "data": {
      "text/html": [
       "<div>\n",
       "<style scoped>\n",
       "    .dataframe tbody tr th:only-of-type {\n",
       "        vertical-align: middle;\n",
       "    }\n",
       "\n",
       "    .dataframe tbody tr th {\n",
       "        vertical-align: top;\n",
       "    }\n",
       "\n",
       "    .dataframe thead th {\n",
       "        text-align: right;\n",
       "    }\n",
       "</style>\n",
       "<table border=\"1\" class=\"dataframe\">\n",
       "  <thead>\n",
       "    <tr style=\"text-align: right;\">\n",
       "      <th></th>\n",
       "      <th>id</th>\n",
       "      <th>gravity</th>\n",
       "      <th>ph</th>\n",
       "      <th>osmo</th>\n",
       "      <th>cond</th>\n",
       "      <th>urea</th>\n",
       "      <th>calc</th>\n",
       "      <th>target</th>\n",
       "    </tr>\n",
       "  </thead>\n",
       "  <tbody>\n",
       "    <tr>\n",
       "      <th>id</th>\n",
       "      <td>1.000000</td>\n",
       "      <td>-0.004775</td>\n",
       "      <td>-0.086619</td>\n",
       "      <td>0.008030</td>\n",
       "      <td>0.032843</td>\n",
       "      <td>-0.023822</td>\n",
       "      <td>0.032360</td>\n",
       "      <td>0.018222</td>\n",
       "    </tr>\n",
       "    <tr>\n",
       "      <th>gravity</th>\n",
       "      <td>-0.004775</td>\n",
       "      <td>1.000000</td>\n",
       "      <td>-0.290349</td>\n",
       "      <td>0.692317</td>\n",
       "      <td>0.470433</td>\n",
       "      <td>0.631710</td>\n",
       "      <td>0.494304</td>\n",
       "      <td>0.282577</td>\n",
       "    </tr>\n",
       "    <tr>\n",
       "      <th>ph</th>\n",
       "      <td>-0.086619</td>\n",
       "      <td>-0.290349</td>\n",
       "      <td>1.000000</td>\n",
       "      <td>-0.309495</td>\n",
       "      <td>-0.190185</td>\n",
       "      <td>-0.279749</td>\n",
       "      <td>-0.214402</td>\n",
       "      <td>-0.094983</td>\n",
       "    </tr>\n",
       "    <tr>\n",
       "      <th>osmo</th>\n",
       "      <td>0.008030</td>\n",
       "      <td>0.692317</td>\n",
       "      <td>-0.309495</td>\n",
       "      <td>1.000000</td>\n",
       "      <td>0.708480</td>\n",
       "      <td>0.809880</td>\n",
       "      <td>0.472114</td>\n",
       "      <td>0.244770</td>\n",
       "    </tr>\n",
       "    <tr>\n",
       "      <th>cond</th>\n",
       "      <td>0.032843</td>\n",
       "      <td>0.470433</td>\n",
       "      <td>-0.190185</td>\n",
       "      <td>0.708480</td>\n",
       "      <td>1.000000</td>\n",
       "      <td>0.499109</td>\n",
       "      <td>0.330609</td>\n",
       "      <td>0.172224</td>\n",
       "    </tr>\n",
       "    <tr>\n",
       "      <th>urea</th>\n",
       "      <td>-0.023822</td>\n",
       "      <td>0.631710</td>\n",
       "      <td>-0.279749</td>\n",
       "      <td>0.809880</td>\n",
       "      <td>0.499109</td>\n",
       "      <td>1.000000</td>\n",
       "      <td>0.489879</td>\n",
       "      <td>0.265211</td>\n",
       "    </tr>\n",
       "    <tr>\n",
       "      <th>calc</th>\n",
       "      <td>0.032360</td>\n",
       "      <td>0.494304</td>\n",
       "      <td>-0.214402</td>\n",
       "      <td>0.472114</td>\n",
       "      <td>0.330609</td>\n",
       "      <td>0.489879</td>\n",
       "      <td>1.000000</td>\n",
       "      <td>0.467439</td>\n",
       "    </tr>\n",
       "    <tr>\n",
       "      <th>target</th>\n",
       "      <td>0.018222</td>\n",
       "      <td>0.282577</td>\n",
       "      <td>-0.094983</td>\n",
       "      <td>0.244770</td>\n",
       "      <td>0.172224</td>\n",
       "      <td>0.265211</td>\n",
       "      <td>0.467439</td>\n",
       "      <td>1.000000</td>\n",
       "    </tr>\n",
       "  </tbody>\n",
       "</table>\n",
       "</div>"
      ],
      "text/plain": [
       "               id   gravity        ph      osmo      cond      urea      calc  \\\n",
       "id       1.000000 -0.004775 -0.086619  0.008030  0.032843 -0.023822  0.032360   \n",
       "gravity -0.004775  1.000000 -0.290349  0.692317  0.470433  0.631710  0.494304   \n",
       "ph      -0.086619 -0.290349  1.000000 -0.309495 -0.190185 -0.279749 -0.214402   \n",
       "osmo     0.008030  0.692317 -0.309495  1.000000  0.708480  0.809880  0.472114   \n",
       "cond     0.032843  0.470433 -0.190185  0.708480  1.000000  0.499109  0.330609   \n",
       "urea    -0.023822  0.631710 -0.279749  0.809880  0.499109  1.000000  0.489879   \n",
       "calc     0.032360  0.494304 -0.214402  0.472114  0.330609  0.489879  1.000000   \n",
       "target   0.018222  0.282577 -0.094983  0.244770  0.172224  0.265211  0.467439   \n",
       "\n",
       "           target  \n",
       "id       0.018222  \n",
       "gravity  0.282577  \n",
       "ph      -0.094983  \n",
       "osmo     0.244770  \n",
       "cond     0.172224  \n",
       "urea     0.265211  \n",
       "calc     0.467439  \n",
       "target   1.000000  "
      ]
     },
     "execution_count": 70,
     "metadata": {},
     "output_type": "execute_result"
    }
   ],
   "source": [
    "trainAlldf.corr()"
   ]
  },
  {
   "cell_type": "code",
   "execution_count": 124,
   "id": "6b4b3cbc",
   "metadata": {},
   "outputs": [],
   "source": [
    "import matplotlib as plt\n",
    "target_col = \"target\"\n",
    "feature_cols = ['gravity', 'ph', 'osmo', 'cond', 'urea', 'calc']\n",
    "for feature in feature_cols:\n",
    "    plt.subplot"
   ]
  },
  {
   "cell_type": "code",
   "execution_count": 102,
   "id": "23e6d897",
   "metadata": {},
   "outputs": [],
   "source": [
    "trainValRatio = 5\n",
    "train_to_all = trainValRatio /(trainValRatio  + 1)\n",
    "Ndata = len(trainAlldf)\n",
    "traindf = trainAlldf.loc[0:int(Ndata*train_to_all)]\n",
    "valdf = trainAlldf.loc[len(traindf):Ndata]\n",
    "#display(traindf.tail(), valdf.head())"
   ]
  },
  {
   "cell_type": "code",
   "execution_count": 103,
   "id": "73d207a8",
   "metadata": {},
   "outputs": [
    {
     "data": {
      "text/plain": [
       "Index(['id', 'gravity', 'ph', 'osmo', 'cond', 'urea', 'calc', 'target'], dtype='object')"
      ]
     },
     "execution_count": 103,
     "metadata": {},
     "output_type": "execute_result"
    }
   ],
   "source": [
    "traindf.columns"
   ]
  },
  {
   "cell_type": "code",
   "execution_count": 104,
   "id": "eecec13c",
   "metadata": {},
   "outputs": [],
   "source": [
    "\n",
    "y_train = traindf[target_col].values\n",
    "y_val_true = valdf[target_col].values\n",
    "\n",
    "X_train = traindf[feature_cols].values\n",
    "X_val = valdf[feature_cols].values\n"
   ]
  },
  {
   "cell_type": "code",
   "execution_count": 123,
   "id": "23c36e92",
   "metadata": {},
   "outputs": [
    {
     "name": "stdout",
     "output_type": "stream",
     "text": [
      "Starting training...\n",
      "Saving model...\n",
      "Starting predicting...\n",
      "              precision    recall  f1-score   support\n",
      "\n",
      "           0       0.73      0.88      0.80        40\n",
      "           1       0.75      0.54      0.63        28\n",
      "\n",
      "    accuracy                           0.74        68\n",
      "   macro avg       0.74      0.71      0.71        68\n",
      "weighted avg       0.74      0.74      0.73        68\n",
      "\n",
      "ROC-Area test =  0.7973214285714285\n",
      "ROC-Area train =  0.8455296896086371\n"
     ]
    }
   ],
   "source": [
    "import warnings\n",
    "warnings.filterwarnings('ignore')\n",
    "thold = 0.6\n",
    "# create dataset for lightgbm\n",
    "lgb_train = lgb.Dataset(X_train, y_train)\n",
    "#lgb_eval = lgb.Dataset(X_, y_test, reference=lgb_train)\n",
    "\n",
    "# specify your configurations as a dict\n",
    "params = {\n",
    "    'boosting_type': 'gbdt',\n",
    "    'objective': 'binary',\n",
    "    #'metric': {'l2', 'l1'},\n",
    "    'max_depth':4,\n",
    "    'num_leaves':12,\n",
    "    'learning_rate': 0.05,\n",
    "    'feature_fraction': 0.6,\n",
    "    'bagging_fraction': 0.5,\n",
    "    'bagging_freq':5,\n",
    "    'verbose': -1\n",
    "}\n",
    "\n",
    "print('Starting training...')\n",
    "# train\n",
    "gbm = lgb.train(params,\n",
    "                lgb_train,\n",
    "                num_boost_round=20)\n",
    "               # valid_sets=lgb_eval,\n",
    "               # callbacks=[lgb.early_stopping(stopping_rounds=5)])\n",
    "\n",
    "print('Saving model...')\n",
    "# save model to file\n",
    "gbm.save_model('model.txt')\n",
    "\n",
    "print('Starting predicting...')\n",
    "# predict\n",
    "y_val_pred_float = gbm.predict(X_val, num_iteration=gbm.best_iteration)\n",
    "y_val_pred = copy.deepcopy(y_val_pred_float)\n",
    "y_val_pred[y_val_pred_float<thold]=0 \n",
    "y_val_pred[y_val_pred_float>=thold]=1 \n",
    "# eval\n",
    "\n",
    "print(classification_report(y_val_true, y_val_pred))\n",
    "print(\"ROC-Area test = \", roc_auc_score(y_val_true, y_val_pred_float))\n",
    "\n",
    "y_train_pred_float = gbm.predict(X_train, num_iteration=gbm.best_iteration)\n",
    "print(\"ROC-Area train = \",  roc_auc_score(y_train, y_train_pred_float))"
   ]
  },
  {
   "cell_type": "code",
   "execution_count": 106,
   "id": "23d029cd",
   "metadata": {},
   "outputs": [
    {
     "data": {
      "text/plain": [
       "((68,), (68,))"
      ]
     },
     "execution_count": 106,
     "metadata": {},
     "output_type": "execute_result"
    }
   ],
   "source": [
    "y_val_true.shape, y_val_pred.shape"
   ]
  },
  {
   "cell_type": "code",
   "execution_count": 107,
   "id": "e35c4166",
   "metadata": {},
   "outputs": [
    {
     "data": {
      "text/plain": [
       "array([0., 0., 0., 1., 0., 0., 1., 0., 1., 0., 0., 0., 1., 0., 1., 0., 0.,\n",
       "       0., 0., 0., 0., 0., 0., 0., 0., 0., 0., 0., 0., 0., 0., 0., 0., 0.,\n",
       "       0., 0., 1., 1., 0., 0., 1., 0., 0., 1., 1., 0., 0., 1., 1., 0., 0.,\n",
       "       0., 0., 1., 0., 1., 0., 0., 0., 0., 0., 0., 1., 0., 0., 1., 0., 0.])"
      ]
     },
     "execution_count": 107,
     "metadata": {},
     "output_type": "execute_result"
    }
   ],
   "source": [
    "y_val_pred"
   ]
  },
  {
   "cell_type": "code",
   "execution_count": null,
   "id": "f109405d",
   "metadata": {},
   "outputs": [],
   "source": []
  }
 ],
 "metadata": {
  "kernelspec": {
   "display_name": "Python 3 (ipykernel)",
   "language": "python",
   "name": "python3"
  },
  "language_info": {
   "codemirror_mode": {
    "name": "ipython",
    "version": 3
   },
   "file_extension": ".py",
   "mimetype": "text/x-python",
   "name": "python",
   "nbconvert_exporter": "python",
   "pygments_lexer": "ipython3",
   "version": "3.10.9"
  }
 },
 "nbformat": 4,
 "nbformat_minor": 5
}
